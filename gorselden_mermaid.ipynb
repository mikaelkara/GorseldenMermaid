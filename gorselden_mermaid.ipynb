{
 "cells": [
  {
   "cell_type": "markdown",
   "metadata": {},
   "source": [
    "# Görselden Mermaid Diyagramı"
   ]
  },
  {
   "cell_type": "code",
   "metadata": {},
   "execution_count": null,
   "source": [
    "import io\n",
    "import json\n",
    "import ipywidgets as widgets\n",
    "from IPython.display import display, Markdown\n",
    "import pytesseract\n",
    "from PIL import Image\n",
    "from langchain.chat_models import ChatOpenAI\n",
    "from langchain.schema import HumanMessage, SystemMessage"
   ],
   "outputs": []
  },
  {
   "cell_type": "code",
   "metadata": {},
   "execution_count": null,
   "source": [
    "llm = ChatOpenAI(model_name=\"gpt-3.5-turbo\", temperature=0)"
   ],
   "outputs": []
  },
  {
   "cell_type": "code",
   "metadata": {},
   "execution_count": null,
   "source": [
    "def translate_to_turkish(text: str) -> str:\n",
    "    if not text.strip():\n",
    "        return \"\"\n",
    "    messages = [\n",
    "        SystemMessage(content=\"Sen metinleri Türkçeye çeviren bir çeviri asistanısın.\"),\n",
    "        HumanMessage(content=text),\n",
    "    ]\n",
    "    return llm.invoke(messages).content.strip()"
   ],
   "outputs": []
  },
  {
   "cell_type": "code",
   "metadata": {},
   "execution_count": null,
   "source": [
    "def diagram_from_text(text: str) -> dict:\n",
    "    prompt = (\n",
    "        \"Aşağıdaki metne göre diyagramın türünü belirle, \"\n",
    "        \"kısa bir Türkçe açıklama yaz ve buna uygun Mermaid kodu üret. \"\n",
    "        \"Sonucu JSON olarak {type, description, mermaid} formatında ver.\\n\"\n",
    "        f\"Metin: {text}\"\n",
    "    )\n",
    "    messages = [HumanMessage(content=prompt)]\n",
    "    try:\n",
    "        content = llm.invoke(messages).content.strip()\n",
    "        return json.loads(content)\n",
    "    except Exception:\n",
    "        return {\"type\": \"\", \"description\": \"\", \"mermaid\": \"\"}"
   ],
   "outputs": []
  },
  {
   "cell_type": "code",
   "metadata": {},
   "execution_count": null,
   "source": [
    "uploader = widgets.FileUpload(accept='image/*', multiple=False)\n",
    "display(uploader)"
   ],
   "outputs": []
  },
  {
   "cell_type": "code",
   "metadata": {},
   "execution_count": null,
   "source": [
    "def handle_upload(change):\n",
    "    if uploader.value:\n",
    "        item = list(uploader.value.values())[0]\n",
    "        image = Image.open(io.BytesIO(item['content']))\n",
    "        display(image)\n",
    "        extracted = pytesseract.image_to_string(image)\n",
    "        turkish = translate_to_turkish(extracted)\n",
    "        result = diagram_from_text(turkish)\n",
    "        display(Markdown(f\"### Diyagram Türü\\n{result.get('type', '')}\"))\n",
    "        display(Markdown(f\"### Açıklama\\n{result.get('description', '')}\"))\n",
    "        code = result.get('mermaid', '')\n",
    "        display(Markdown(\"### Mermaid Kod\"))\n",
    "        display(Markdown(f\"```mermaid\\n{code}\\n```\"))\n",
    "uploader.observe(handle_upload, names='value')"
   ],
   "outputs": []
  }
 ],
 "metadata": {
  "kernelspec": {
   "display_name": "Python 3",
   "language": "python",
   "name": "python3"
  },
  "language_info": {
   "name": "python",
   "version": "3.11.0"
  }
 },
 "nbformat": 4,
 "nbformat_minor": 5
}
